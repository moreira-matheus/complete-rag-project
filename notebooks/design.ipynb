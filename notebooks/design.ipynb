{
 "cells": [
  {
   "cell_type": "code",
   "execution_count": 1,
   "id": "a7c4aa4a",
   "metadata": {},
   "outputs": [],
   "source": [
    "import os, sys, json"
   ]
  },
  {
   "cell_type": "code",
   "execution_count": 2,
   "id": "aabb433a",
   "metadata": {},
   "outputs": [
    {
     "name": "stderr",
     "output_type": "stream",
     "text": [
      "/home/matheus/Projects/complete-rag-project/.venv/lib/python3.8/site-packages/sentence_transformers/cross_encoder/CrossEncoder.py:13: TqdmWarning: IProgress not found. Please update jupyter and ipywidgets. See https://ipywidgets.readthedocs.io/en/stable/user_install.html\n",
      "  from tqdm.autonotebook import tqdm, trange\n"
     ]
    }
   ],
   "source": [
    "sys.path.append(\"..\")\n",
    "from model.indexing import IndexingPipeline\n",
    "from model.searching import SearchEngine"
   ]
  },
  {
   "cell_type": "code",
   "execution_count": 3,
   "id": "024896e9",
   "metadata": {},
   "outputs": [],
   "source": [
    "with open(\"../cfg.json\", \"r\", encoding=\"utf-8\") as f:\n",
    "    cfg = json.loads(f.read())"
   ]
  },
  {
   "cell_type": "code",
   "execution_count": 4,
   "id": "57695cdc",
   "metadata": {},
   "outputs": [
    {
     "name": "stdout",
     "output_type": "stream",
     "text": [
      "File path: ../input/raw/zhang2020.pdf\n",
      "File path: ../input/raw/chen2017.pdf\n",
      "Done.\n"
     ]
    }
   ],
   "source": [
    "os.remove(cfg[\"INDEX_PATH\"])\n",
    "os.remove(cfg[\"METADATA_PATH\"])\n",
    "\n",
    "pipeline = IndexingPipeline(cfg)\n",
    "pipeline.run()"
   ]
  },
  {
   "cell_type": "code",
   "execution_count": 5,
   "id": "809791d7",
   "metadata": {},
   "outputs": [],
   "source": [
    "query = \"Evaluation metrics\"\n",
    "engine = SearchEngine(cfg)\n",
    "results = engine.search_index(query)"
   ]
  },
  {
   "cell_type": "code",
   "execution_count": 6,
   "id": "a11a9606",
   "metadata": {},
   "outputs": [
    {
     "name": "stdout",
     "output_type": "stream",
     "text": [
      "{\n",
      "  \"rank\": \"1\",\n",
      "  \"score\": \"0.5820847\",\n",
      "  \"text\": \"that user satisfaction is strongly correlated with some evaluation\\nmetrics such as CG and DCG. There exists a number of studies inves-\\ntigating different evaluation methods and the correlation between\\nthese methods and satisfaction [28, 31, 38].\\nOur contributions in this paper complement existing work on\\nthoroughly investigating the consistency between two facets of\\nevaluation metrics, i.e., user behavior prediction and user satisfac-\\ntion reflection.\\n2.3\\nMeta-Evaluation of Metrics\\nThe meta-evaluation of evaluation metrics has been widely studied\\nin recent years and different criteria (e.g., error rate, discriminative\\npower and etc.) have been proposed to compare different evalua-\\ntion metrics. Buckley and Voorhees [7] adopt \\u201cerror rate\\u201d which\\nis the likely error of concluding \\u201cSystem A is better than system\\nB\\u201d, to compare between different metrics. Sakai [35] propose \\u201cDis-\\ncriminative power\\u201d which shares similar intuitive with \\u201cfuzziness\",\n",
      "  \"metadata\": \"{'file_path': '../input/raw/zhang2020.pdf', 'page_num': 3}\"\n",
      "}\n",
      "{\n",
      "  \"rank\": \"2\",\n",
      "  \"score\": \"0.61295617\",\n",
      "  \"text\": \"satisfaction.\\n2\\nRELATED WORK\\nOf particular interest to our research is the extensive body of work\\non (i) meta evaluation of IR metrics, and (ii) search satisfaction.\\n2.1\\nMeta Evaluation of IR Metrics\\nAs evaluation serves as an important part in IR-related research, the\\nmeta-evaluation of evaluation metrics has also been widely studied\\nin recent years and diferent criteria have been adopted to compare\\ndiferent evaluation metrics [33].\\nOne widely-used method is to use \\u201cdiscriminative power\\u201d to\\nmeasure evaluation metrics. Early in 2000, Buckley and Voorhees\\nproposed to use error rate, which is the likely error of concluding\\n\\u201cSystem A is beter than system B\\u201d, to compare between diferent\\nmetrics [6]. Tey also adopted \\u201cfuzziness value\\u201d to examine \\u201cthe\\npower of a measure to discriminate among systems\\u201d. Tis idea was\\nfurther formalized to be \\u201cdiscriminative power\\u201d by Sakai in 2006\\n[39]. He pointed out that mildly top-weighted metrics, such as\",\n",
      "  \"metadata\": \"{'file_path': '../input/raw/chen2017.pdf', 'page_num': 2}\"\n",
      "}\n",
      "{\n",
      "  \"rank\": \"3\",\n",
      "  \"score\": \"0.70143807\",\n",
      "  \"text\": \"dataset that will be publicly available upon publication of\\nthe paper.\\nThe remainder of this paper is organized as follows. In Section 2,\\nwe review a broad range of related studies about user models of\\nmetrics, user satisfaction, and meta-evaluation of metrics. Then we\\ndescribe our methods to meta-evaluate user models and user satis-\\nfaction for metrics in Section 3. Section 4 and Section 5 shows some\\ndetails of our data collection process and experimental settings,\\nrespectively. The experiments and results are shown in Section 6\\nto investigate the relationship between user models and user satis-\\nfaction. Finally, we discuss the conclusions and limitations of our\\nwork in Section 7.\\n2\\nRELATED WORK\\n2.1\\nUser Models of Metrics\\nEvaluation metrics encapsulate assumptions about user behav-\\nior [14, 31]. It has been shown that most advanced evaluation\\nmetrics are fundamentally related and are underlied by different\\nuser behavior models [9, 30]. Further, within the C/W/L framework\",\n",
      "  \"metadata\": \"{'file_path': '../input/raw/zhang2020.pdf', 'page_num': 2}\"\n",
      "}\n"
     ]
    }
   ],
   "source": [
    "for result in results:\n",
    "    print(result)"
   ]
  }
 ],
 "metadata": {
  "kernelspec": {
   "display_name": ".venv",
   "language": "python",
   "name": "python3"
  },
  "language_info": {
   "codemirror_mode": {
    "name": "ipython",
    "version": 3
   },
   "file_extension": ".py",
   "mimetype": "text/x-python",
   "name": "python",
   "nbconvert_exporter": "python",
   "pygments_lexer": "ipython3",
   "version": "3.8.10"
  }
 },
 "nbformat": 4,
 "nbformat_minor": 5
}
