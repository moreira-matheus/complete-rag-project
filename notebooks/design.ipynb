{
 "cells": [
  {
   "cell_type": "code",
   "execution_count": 1,
   "id": "a7c4aa4a",
   "metadata": {},
   "outputs": [],
   "source": [
    "import os, sys, json"
   ]
  },
  {
   "cell_type": "code",
   "execution_count": 2,
   "id": "aabb433a",
   "metadata": {},
   "outputs": [
    {
     "name": "stderr",
     "output_type": "stream",
     "text": [
      "/home/matheus/Projects/complete-rag-project/.venv/lib/python3.8/site-packages/sentence_transformers/cross_encoder/CrossEncoder.py:13: TqdmWarning: IProgress not found. Please update jupyter and ipywidgets. See https://ipywidgets.readthedocs.io/en/stable/user_install.html\n",
      "  from tqdm.autonotebook import tqdm, trange\n"
     ]
    }
   ],
   "source": [
    "sys.path.append(\"..\")\n",
    "from model.indexing import IndexingPipeline\n",
    "from model.searching import SearchEngine"
   ]
  },
  {
   "cell_type": "code",
   "execution_count": 3,
   "id": "024896e9",
   "metadata": {},
   "outputs": [],
   "source": [
    "with open(\"../cfg.json\", \"r\", encoding=\"utf-8\") as f:\n",
    "    cfg = json.loads(f.read())"
   ]
  },
  {
   "cell_type": "code",
   "execution_count": 4,
   "id": "57695cdc",
   "metadata": {},
   "outputs": [
    {
     "name": "stdout",
     "output_type": "stream",
     "text": [
      "File path: ../input/raw/zhang2020.pdf\n",
      "File path: ../input/raw/chen2017.pdf\n",
      "Done.\n"
     ]
    }
   ],
   "source": [
    "os.remove(cfg[\"INDEX_PATH\"])\n",
    "os.remove(cfg[\"METADATA_PATH\"])\n",
    "\n",
    "pipeline = IndexingPipeline(cfg)\n",
    "pipeline.run()"
   ]
  },
  {
   "cell_type": "code",
   "execution_count": 5,
   "id": "809791d7",
   "metadata": {},
   "outputs": [],
   "source": [
    "query = \"How does RAG work\"\n",
    "engine = SearchEngine(cfg)\n",
    "results = engine.search_index(query)"
   ]
  },
  {
   "cell_type": "code",
   "execution_count": 10,
   "id": "a11a9606",
   "metadata": {},
   "outputs": [
    {
     "data": {
      "text/plain": [
       "{'rank': 3,\n",
       " 'score': 1.7969694,\n",
       " 'text': 'information to satisfy the users, which sometimes makes clicks un-\\nnecessary. In such case, hovers can help capture more information\\nthan clicks. It is not surprising that the performance of MinRR h\\nand MinRR ch are the same because in most cases the clicked re-\\nsults are usually a subset of hovered results. Furthermore, we can\\nsee that the hover information is especially efective in heteroge-\\nneous search according to the performance of MinRR. When hover\\ninformation is incorporated, the pearson correlation coefcient\\nimproves by 0.169(from 0.325 to 0.494) in heterogeneous search and\\nonly 0.025(from 0.417 to 0.442) in homogeneous search. Te im-\\nprovement of concordance test result is also larger in heterogeneous\\nsearch environment. Tis is reasonable because sometimes users\\ncan accomplish their search tasks by interacting with the vertical\\nresults on heterogeneous SERPs. An example of the distribution dif-\\nferences between hovers and clicks are shown in Figure 3. For each',\n",
       " 'metadata': {'file_path': '../input/raw/chen2017.pdf', 'page_num': 9}}"
      ]
     },
     "execution_count": 10,
     "metadata": {},
     "output_type": "execute_result"
    }
   ],
   "source": [
    "results[2].__dict__"
   ]
  }
 ],
 "metadata": {
  "kernelspec": {
   "display_name": ".venv",
   "language": "python",
   "name": "python3"
  },
  "language_info": {
   "codemirror_mode": {
    "name": "ipython",
    "version": 3
   },
   "file_extension": ".py",
   "mimetype": "text/x-python",
   "name": "python",
   "nbconvert_exporter": "python",
   "pygments_lexer": "ipython3",
   "version": "3.8.10"
  }
 },
 "nbformat": 4,
 "nbformat_minor": 5
}
